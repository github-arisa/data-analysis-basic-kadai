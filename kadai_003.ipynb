{
  "nbformat": 4,
  "nbformat_minor": 0,
  "metadata": {
    "colab": {
      "provenance": []
    },
    "kernelspec": {
      "name": "python3",
      "display_name": "Python 3"
    },
    "language_info": {
      "name": "python"
    }
  },
  "cells": [
    {
      "cell_type": "code",
      "execution_count": 11,
      "metadata": {
        "colab": {
          "base_uri": "https://localhost:8080/"
        },
        "id": "1zXGS-SOf58-",
        "outputId": "f4c7bd14-c9d3-41a5-b901-97f08c3ec992"
      },
      "outputs": [
        {
          "output_type": "stream",
          "name": "stdout",
          "text": [
            "[[ 4  5  6  7]\n",
            " [12 17 22 27]\n",
            " [20 29 38 47]]\n"
          ]
        },
        {
          "output_type": "execute_result",
          "data": {
            "text/plain": [
              "47"
            ]
          },
          "metadata": {},
          "execution_count": 11
        }
      ],
      "source": [
        "import numpy as np\n",
        "A = np.array([[0, 1], [2, 3], [4, 5]])\n",
        "B = np.array([[0, 1, 2, 3], [4, 5, 6, 7]])\n",
        "C = A.dot(B)\n",
        "print(C)\n",
        "C.max()"
      ]
    },
    {
      "cell_type": "code",
      "source": [],
      "metadata": {
        "id": "fVQkY_hsgacY"
      },
      "execution_count": 7,
      "outputs": []
    },
    {
      "cell_type": "code",
      "source": [],
      "metadata": {
        "id": "wfQr5xBrl3zc"
      },
      "execution_count": 5,
      "outputs": []
    }
  ]
}